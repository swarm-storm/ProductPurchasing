{
 "cells": [
  {
   "cell_type": "code",
   "execution_count": null,
   "metadata": {},
   "outputs": [],
   "source": [
    "from tracing.rl.a3cmodel import A3CModel\n",
    "from tracing.rl.actions import *\n",
    "from tracing.selenium_utils.controls import Types\n",
    "\n",
    "from pretrain_dataset import *\n",
    "\n",
    "import tensorflow as tf\n",
    "import tensorflow_hub as hub\n",
    "\n",
    "import threading\n",
    "import json\n",
    "import random\n",
    "from scipy import misc\n",
    "import numpy as np\n",
    "import math\n",
    "import matplotlib.pyplot as plt\n",
    "import numpy as np\n",
    "import os\n",
    "import pandas as pd\n",
    "import re\n",
    "import seaborn as sns\n",
    "\n",
    "from controls_pretrain import *"
   ]
  },
  {
   "cell_type": "code",
   "execution_count": null,
   "metadata": {},
   "outputs": [],
   "source": [
    "controls = read_control_dataset()\n",
    "encoder = cache_embeddings(controls)"
   ]
  },
  {
   "cell_type": "code",
   "execution_count": null,
   "metadata": {},
   "outputs": [],
   "source": [
    "def plot_similarity(labels, features, rotation):\n",
    "    corr = np.inner(features, features)\n",
    "    sns.set(font_scale=1.2)\n",
    "    g = sns.heatmap(\n",
    "        corr,\n",
    "        xticklabels=labels,\n",
    "        yticklabels=labels,\n",
    "        vmin=0,\n",
    "        vmax=1,\n",
    "        cmap=\"YlOrRd\")\n",
    "    g.set_xticklabels(labels, rotation=rotation)\n",
    "    g.set_title(\"Semantic Textual Similarity\")\n",
    "\n",
    "\n",
    "def run_and_plot(messages):\n",
    "    message_embeddings = encoder.encode(messages)\n",
    "    plot_similarity(messages, message_embeddings, 90)"
   ]
  },
  {
   "cell_type": "code",
   "execution_count": null,
   "metadata": {},
   "outputs": [],
   "source": [
    "messages = [ctrl['label'] for ctrl in controls[:10]]\n",
    "run_and_plot(messages)"
   ]
  },
  {
   "cell_type": "code",
   "execution_count": null,
   "metadata": {},
   "outputs": [],
   "source": [
    "tf.reset_default_graph()\n",
    "session = tf.Session()"
   ]
  },
  {
   "cell_type": "code",
   "execution_count": null,
   "metadata": {},
   "outputs": [],
   "source": [
    "a3c = A3CModel(len(Actions.actions), session = session, train_deep=True)\n",
    "model = ControlPretrainModel(a3c, session, encoder)\n",
    "\n",
    "session.run(tf.global_variables_initializer())\n",
    "saver = tf.train.Saver()"
   ]
  },
  {
   "cell_type": "code",
   "execution_count": null,
   "metadata": {},
   "outputs": [],
   "source": [
    "to_train_inputs = [ctrl for ctrl in controls if ctrl['possible_actions'][3] == 0 \n",
    "                   and sum(ctrl['possible_actions']) == 1]\n",
    "print(len(to_train_inputs))"
   ]
  },
  {
   "cell_type": "code",
   "execution_count": null,
   "metadata": {
    "scrolled": true
   },
   "outputs": [],
   "source": [
    "# Choose what to train\n",
    "# 1. to_train - is full dataset\n",
    "# 2. to_train_input - is small dataset for controls that aren't clickable\n",
    "for epoch in range(40):\n",
    "    model.train(to_train_inputs, lr=0.001, \n",
    "            l2 = 0.0001,\n",
    "            epoch_start = epoch, \n",
    "            epoch_end = epoch + 1, batch_size = 20, dropout = 0.8)\n",
    "    \n",
    "    saver.save(session, './checkpoints/pretrain_checkpoint-{}'.format(epoch))"
   ]
  }
 ],
 "metadata": {
  "kernelspec": {
   "display_name": "Python 3",
   "language": "python",
   "name": "python3"
  },
  "language_info": {
   "codemirror_mode": {
    "name": "ipython",
    "version": 3
   },
   "file_extension": ".py",
   "mimetype": "text/x-python",
   "name": "python",
   "nbconvert_exporter": "python",
   "pygments_lexer": "ipython3",
   "version": "3.6.3"
  }
 },
 "nbformat": 4,
 "nbformat_minor": 2
}
