{
 "cells": [
  {
   "cell_type": "code",
   "execution_count": null,
   "metadata": {},
   "outputs": [],
   "source": [
    "from create_dataset import load_dataset, dataset_item_to_str\n",
    "from IPython.display import display, Image\n",
    "\n",
    "import os\n",
    "import os.path\n",
    "import PIL\n",
    "import scipy.misc as misc\n",
    "import numpy as np"
   ]
  },
  {
   "cell_type": "code",
   "execution_count": null,
   "metadata": {},
   "outputs": [],
   "source": [
    "dataset = '../../../resources/popups_dataset.csv'\n",
    "urls = load_dataset('../../../resources/popups_dataset.csv')"
   ]
  },
  {
   "cell_type": "code",
   "execution_count": null,
   "metadata": {},
   "outputs": [],
   "source": [
    "start_url = 0\n",
    "end_url = 100\n",
    "has_popups = True"
   ]
  },
  {
   "cell_type": "code",
   "execution_count": null,
   "metadata": {},
   "outputs": [],
   "source": [
    "filtered = [url for url in urls if url['has_popup'] == has_popups]\n",
    "for url in filtered[start_url: end_url]:\n",
    "    print('\\n\\n')\n",
    "    print('http://' + url['url'])\n",
    "    display(Image(filename=url['img_file'], width=600))"
   ]
  }
 ],
 "metadata": {
  "kernelspec": {
   "display_name": "Python 3",
   "language": "python",
   "name": "python3"
  },
  "language_info": {
   "codemirror_mode": {
    "name": "ipython",
    "version": 3
   },
   "file_extension": ".py",
   "mimetype": "text/x-python",
   "name": "python",
   "nbconvert_exporter": "python",
   "pygments_lexer": "ipython3",
   "version": "3.6.3"
  }
 },
 "nbformat": 4,
 "nbformat_minor": 2
}
