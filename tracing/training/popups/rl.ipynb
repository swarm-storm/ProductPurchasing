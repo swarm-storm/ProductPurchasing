{
 "cells": [
  {
   "cell_type": "code",
   "execution_count": 1,
   "metadata": {
    "scrolled": true
   },
   "outputs": [],
   "source": [
    "from tracing.rl.actions import *\n",
    "from tracing.rl.a3cmodel import A3CModel\n",
    "from tracing.rl.rewards import *\n",
    "from tracing.rl.environment import Environment\n",
    "from tracing.rl.actor_learner import ActorLearnerWorker\n",
    "import tensorflow as tf\n",
    "import threading\n",
    "import csv, re\n",
    "import random\n",
    "\n",
    "from create_dataset import read_popups_rl_dataset\n",
    "from tracing.training.classification.page_classifier import PageClassifier"
   ]
  },
  {
   "cell_type": "code",
   "execution_count": 2,
   "metadata": {},
   "outputs": [],
   "source": [
    "dataset = '../../../resources/popups_dataset.csv'\n",
    "#pretrained_checkpoint = '../pretrain/checkpoints/pretrain_checkpoint-10'\n",
    "#pretrained_checkpoint = \\\n",
    "#    '/home/aleksei/work/projects/g2/trace_automation/tracing/training/pretrain/checkpoints/pretrain_checkpoint-10'"
   ]
  },
  {
   "cell_type": "code",
   "execution_count": 3,
   "metadata": {
    "scrolled": true
   },
   "outputs": [
    {
     "name": "stdout",
     "output_type": "stream",
     "text": [
      "train size:  885\n",
      "test size:  222\n"
     ]
    }
   ],
   "source": [
    "hard_popup_urls = [\n",
    "    # Choose from two options popups\n",
    "    'monstervape.com',\n",
    "    'twistedcigs.com',\n",
    "    'ecigsejuice.com',\n",
    "    'vape-fuel.com',\n",
    "    'www.powervapes.net/products/',\n",
    "    'ecigexpress.com',\n",
    "    \n",
    "     # Enter date popups\n",
    "    'thecigarshop.com',\n",
    "    'cigartowns.com',\n",
    "    'docssmokeshop.com',\n",
    "    'enhancedecigs.com',\n",
    "    'betamorphecigs.com',\n",
    "   \n",
    "    # Subscribe\n",
    "    'cigarmanor.com',  #Need email or extract close button\n",
    "    'smokechophouse.com',\n",
    "    \n",
    "    \n",
    "    # Accept Cookie\n",
    "    'theglamourshop.com',\n",
    "    'smokingvaporstore.com',   \n",
    "]\n",
    "\n",
    "no_popup_urls = [\n",
    "    'dixieems.com',\n",
    "    'firstfitness.com',\n",
    "    'sandlakedermatology.com',\n",
    "    'dixieems.com',\n",
    "    'anabolicwarfare.com',\n",
    "    'jonessurgical.com',\n",
    "    'srandd.com'\n",
    "]\n",
    "\n",
    "urls = read_popups_rl_dataset(dataset)\n",
    "\n",
    "popup_urls = list([status['url'] for status in urls if status['has_popup']==True])\n",
    "random.shuffle(popup_urls)\n",
    "\n",
    "split = int(len(popup_urls) * 0.8)\n",
    "train_urls = popup_urls[:split]\n",
    "test_urls = popup_urls[split:]\n",
    "\n",
    "print('train size: ', len(train_urls))\n",
    "print('test size: ', len(test_urls))"
   ]
  },
  {
   "cell_type": "code",
   "execution_count": 4,
   "metadata": {
    "scrolled": true
   },
   "outputs": [
    {
     "name": "stdout",
     "output_type": "stream",
     "text": [
      "WARNING:tensorflow:From /home/aleksei/anaconda3/lib/python3.6/site-packages/nets/inception_resnet_v2.py:351: calling reduce_mean (from tensorflow.python.ops.math_ops) with keep_dims is deprecated and will be removed in a future version.\n",
      "Instructions for updating:\n",
      "keep_dims is deprecated, use keepdims instead\n",
      "WARNING:tensorflow:case: An unordered dictionary of predicate/fn pairs was provided, but exclusive=False. The order of conditional tests is deterministic but not guaranteed.\n",
      "WARNING:tensorflow:case: An unordered dictionary of predicate/fn pairs was provided, but exclusive=False. The order of conditional tests is deterministic but not guaranteed.\n"
     ]
    },
    {
     "name": "stderr",
     "output_type": "stream",
     "text": [
      "/home/aleksei/anaconda3/lib/python3.6/site-packages/tensorflow/python/ops/gradients_impl.py:112: UserWarning: Converting sparse IndexedSlices to a dense Tensor of unknown shape. This may consume a large amount of memory.\n",
      "  \"Converting sparse IndexedSlices to a dense Tensor of unknown shape. \"\n"
     ]
    },
    {
     "name": "stdout",
     "output_type": "stream",
     "text": [
      "INFO:tensorflow:Restoring parameters from /home/aleksei/.tra_cache/classification_model/model\n",
      "INFO:tensorflow:Using /home/aleksei/tf_hub_cache/ to cache modules.\n",
      "INFO:tensorflow:Saver not created because there are no variables in the graph to restore\n"
     ]
    }
   ],
   "source": [
    "g1 = tf.Graph()\n",
    "with g1.as_default():\n",
    "    page_classifier = PageClassifier.get_pretrained()\n",
    "\n",
    "tf.reset_default_graph()\n",
    "session = tf.Session()\n",
    "    \n",
    "num_workers = 4\n",
    "\n",
    "global_model = A3CModel(len(Actions.popups), session = session)\n",
    "\n",
    "global_model.init()\n",
    "\n",
    "\n",
    "# if pretrained_checkpoint:\n",
    "#     saver = tf.train.Saver()\n",
    "#     saver.restore(session, pretrained_checkpoint)\n",
    "\n",
    "workers = []\n",
    "\n",
    "for i in range(num_workers):\n",
    "    env = Environment(PageRewardsCalculator.for_popups(page_classifier), headless=True)\n",
    "    worker = ActorLearnerWorker(\"worker-{}\".format(i),\n",
    "                                train_urls,\n",
    "                                global_model, \n",
    "                                env, \n",
    "                                actions = Actions.popups,\n",
    "                                max_steps = 1000, \n",
    "                                n_step = 5, \n",
    "                                lr=0.001, \n",
    "                                l2 = 0.03,\n",
    "                                entropy_l=0.2, \n",
    "                                dropout = 0.8, \n",
    "                                gamma=0.99)\n",
    "    workers.append(worker)\n",
    "    \n",
    "coord = tf.train.Coordinator()"
   ]
  },
  {
   "cell_type": "code",
   "execution_count": null,
   "metadata": {
    "scrolled": true
   },
   "outputs": [
    {
     "name": "stderr",
     "output_type": "stream",
     "text": [
      "2018-12-11 13:46:02,539 Thread-8 INFO     \n",
      "\n",
      "started url fuzionvapor.com\n",
      "2018-12-11 13:46:02,541 Thread-9 INFO     \n",
      "\n",
      "started url angelvapes.com\n",
      "2018-12-11 13:46:02,544 Thread-10 INFO     \n",
      "\n",
      "started url redrockvapor.com\n",
      "2018-12-11 13:46:02,546 Thread-11 INFO     \n",
      "\n",
      "started url vapegoons.com\n",
      "2018-12-11 13:46:16,204 Thread-8 INFO     goal proba = 0.0\n",
      "2018-12-11 13:46:17,982 Thread-11 INFO     goal proba = 2.1457672119140625e-06\n",
      "2018-12-11 13:46:18,053 Thread-10 INFO     goal proba = 0.0\n",
      "2018-12-11 13:46:23,078 Thread-9 INFO     goal proba = 0.01609647274017334\n",
      "2018-12-11 13:46:46,514 redrockvapor.com INFO     control: Control: button, label: No, I am Under 21, values: None, min: None, max = None\n",
      "2018-12-11 13:46:46,516 redrockvapor.com INFO     action: Click\n",
      "2018-12-11 13:46:53,711 redrockvapor.com INFO     success: True, reward: 0\n",
      "2018-12-11 13:46:53,713 angelvapes.com INFO     control: Control: button, label: I am 18+, values: None, min: None, max = None\n",
      "2018-12-11 13:46:53,715 angelvapes.com INFO     action: Click\n",
      "2018-12-11 13:47:01,474 angelvapes.com INFO     success: True, reward: 3\n",
      "2018-12-11 13:47:01,814 fuzionvapor.com INFO     control: Control: button, label: YES, values: None, min: None, max = None\n",
      "2018-12-11 13:47:01,815 fuzionvapor.com INFO     action: Click\n"
     ]
    },
    {
     "data": {
      "image/png": "[encoded data removed]",
      "text/plain": [
       "<matplotlib.figure.Figure at 0x7fe6dc136be0>"
      ]
     },
     "metadata": {},
     "output_type": "display_data"
    },
    {
     "name": "stderr",
     "output_type": "stream",
     "text": [
      "2018-12-11 13:47:09,683 fuzionvapor.com INFO     success: True, reward: 3\n",
      "2018-12-11 13:47:24,959 angelvapes.com INFO     policy_loss: [[4.181006]], value_loss: 0.1116810217499733, entropy_loss: 9.020493507385254\n",
      "2018-12-11 13:47:24,961 angelvapes.com INFO     sum_reward for angelvapes.com is 3.0\n",
      "2018-12-11 13:47:24,963 angelvapes.com INFO     \n",
      "\n",
      "started url vapordab.com\n",
      "2018-12-11 13:47:31,934 redrockvapor.com INFO     policy_loss: [[-0.0110192]], value_loss: 0.13341619074344635, entropy_loss: 0.00029437540797516704\n",
      "2018-12-11 13:47:31,938 redrockvapor.com INFO     sum_reward for redrockvapor.com is 0.0\n",
      "2018-12-11 13:47:31,939 redrockvapor.com INFO     \n",
      "\n",
      "started url elevatedvaping.com\n",
      "2018-12-11 13:47:40,671 angelvapes.com INFO     goal proba = 2.2649765014648438e-06\n",
      "2018-12-11 13:47:41,126 fuzionvapor.com INFO     policy_loss: [[2.2354133]], value_loss: 0.1337358057498932, entropy_loss: 8.880245208740234\n",
      "2018-12-11 13:47:41,127 fuzionvapor.com INFO     sum_reward for fuzionvapor.com is 3.0\n",
      "2018-12-11 13:47:41,129 fuzionvapor.com INFO     \n",
      "\n",
      "started url wallstreetvape.com\n",
      "2018-12-11 13:47:45,348 redrockvapor.com INFO     goal proba = 0.0\n",
      "2018-12-11 13:47:49,302 fuzionvapor.com INFO     goal proba = 0.9999999579231655\n",
      "2018-12-11 13:47:49,306 fuzionvapor.com INFO     \n",
      "\n",
      "started url madscientistvapor.com\n"
     ]
    },
    {
     "name": "stdout",
     "output_type": "stream",
     "text": [
      "avg_reward: 2.0\n"
     ]
    },
    {
     "data": {
      "image/png": "[encoded data removed]",
      "text/plain": [
       "<matplotlib.figure.Figure at 0x7fe6dc067a90>"
      ]
     },
     "metadata": {},
     "output_type": "display_data"
    },
    {
     "name": "stderr",
     "output_type": "stream",
     "text": [
      "2018-12-11 13:48:04,922 fuzionvapor.com INFO     goal proba = 0.9999995351850259\n",
      "2018-12-11 13:48:04,924 fuzionvapor.com INFO     \n",
      "\n",
      "started url thevaporfactory.com\n",
      "2018-12-11 13:48:07,613 vapordab.com INFO     control: Control: text, label: , values: None, min: None, max = None\n",
      "2018-12-11 13:48:07,616 vapordab.com INFO     action: InputBDay\n",
      "2018-12-11 13:48:13,616 vapordab.com INFO     success: True, reward: 0\n",
      "2018-12-11 13:48:13,617 vapordab.com INFO     control: Control: text, label: , values: None, min: None, max = None\n",
      "2018-12-11 13:48:13,618 vapordab.com INFO     action: Input Email\n",
      "2018-12-11 13:48:15,578 vapordab.com INFO     success: True, reward: 0\n",
      "2018-12-11 13:48:15,580 vapordab.com INFO     control: Control: text, label: , values: None, min: None, max = None\n",
      "2018-12-11 13:48:15,581 vapordab.com INFO     action: InputBMonth\n",
      "2018-12-11 13:48:18,747 fuzionvapor.com INFO     goal proba = 0.0\n",
      "2018-12-11 13:48:21,708 vapordab.com INFO     success: True, reward: 0\n",
      "2018-12-11 13:48:21,711 vapordab.com INFO     control: Control: link, label: \n",
      "\n",
      "\n",
      "\n",
      "Website Age Checker & Age Verification Pop Up Script by AgeVerify.co, valu\n",
      "2018-12-11 13:48:21,712 vapordab.com INFO     action: Click\n",
      "2018-12-11 13:48:32,216 thevaporfactory.com INFO     control: Control: link, label: EXIT, values: None, min: None, max = None\n",
      "2018-12-11 13:48:32,217 thevaporfactory.com INFO     action: Click\n",
      "2018-12-11 13:48:37,992 vapordab.com INFO     success: True, reward: 0\n",
      "2018-12-11 13:48:39,441 thevaporfactory.com INFO     success: True, reward: 0\n"
     ]
    },
    {
     "name": "stdout",
     "output_type": "stream",
     "text": [
      "avg_reward: 2.0\n"
     ]
    },
    {
     "data": {
      "image/png": "[encoded data removed]",
      "text/plain": [
       "<matplotlib.figure.Figure at 0x7fe6dc028f28>"
      ]
     },
     "metadata": {},
     "output_type": "display_data"
    },
    {
     "name": "stderr",
     "output_type": "stream",
     "text": [
      "2018-12-11 13:49:10,760 vapordab.com INFO     policy_loss: [[-0.03262571]], value_loss: 0.13837140798568726, entropy_loss: 0.0018618672620505095\n",
      "2018-12-11 13:49:10,763 vapordab.com INFO     sum_reward for vapordab.com is 0.0\n",
      "2018-12-11 13:49:10,767 vapordab.com INFO     \n",
      "\n",
      "started url miamicigarbundles.com\n",
      "2018-12-11 13:49:10,944 thevaporfactory.com INFO     policy_loss: [[-0.0253394]], value_loss: 0.13416850566864014, entropy_loss: 0.0015013456577435136\n",
      "2018-12-11 13:49:10,947 thevaporfactory.com INFO     sum_reward for thevaporfactory.com is 0.0\n",
      "2018-12-11 13:49:10,952 thevaporfactory.com INFO     \n",
      "\n",
      "started url vaportekusa.com\n",
      "2018-12-11 13:49:22,401 thevaporfactory.com INFO     goal proba = 0.0\n",
      "2018-12-11 13:49:27,900 vapordab.com INFO     goal proba = 0.9999999999999979\n",
      "2018-12-11 13:49:27,902 vapordab.com INFO     \n",
      "\n",
      "started url e-cig.com\n",
      "2018-12-11 13:49:42,222 vapordab.com INFO     goal proba = 0.0\n"
     ]
    },
    {
     "name": "stdout",
     "output_type": "stream",
     "text": [
      "avg_reward: 1.2\n"
     ]
    },
    {
     "data": {
      "image/png": "[encoded data removed]",
      "text/plain": [
       "<matplotlib.figure.Figure at 0x7fe6dc009e48>"
      ]
     },
     "metadata": {},
     "output_type": "display_data"
    },
    {
     "name": "stderr",
     "output_type": "stream",
     "text": [
      "2018-12-11 13:50:10,203 e-cig.com INFO     exception during processing url: e-cig.com\n",
      "Traceback (most recent call last):\n",
      "  File \"/home/aleksei/anaconda3/lib/python3.6/site-packages/tracing/rl/actor_learner.py\", line 420, in run\n",
      "    self.act_and_learn(url)\n",
      "  File \"/home/aleksei/anaconda3/lib/python3.6/site-packages/tracing/rl/actor_learner.py\", line 308, in act_and_learn\n",
      "    page_img = self.env.get_page_as_input(full_page=True, width = 300)\n",
      "  File \"/home/aleksei/anaconda3/lib/python3.6/site-packages/tracing/rl/environment.py\", line 261, in get_page_as_input\n",
      "    array = self.get_screenshot_as_array(full_page, 1., width)\n",
      "  File \"/home/aleksei/anaconda3/lib/python3.6/site-packages/tracing/rl/environment.py\", line 290, in get_screenshot_as_array\n",
      "    img = Image.open(tmp)\n",
      "  File \"/home/aleksei/anaconda3/lib/python3.6/site-packages/PIL/Image.py\", line 2657, in open\n",
      "    % (filename if filename else fp))\n",
      "OSError: cannot identify image file '/tmp/64f7ebcecfdd4a87bb692358b19d89f7uaphpjh9.png'\n",
      "2018-12-11 13:50:10,230 e-cig.com INFO     \n",
      "\n",
      "started url rtsvapes.com\n",
      "2018-12-11 13:50:12,828 vaportekusa.com INFO     control: Control: link, label: Exit, values: None, min: None, max = None\n",
      "2018-12-11 13:50:12,830 vaportekusa.com INFO     action: Click\n",
      "2018-12-11 13:50:19,390 vaportekusa.com INFO     success: True, reward: 0\n",
      "2018-12-11 13:50:26,047 e-cig.com INFO     goal proba = 4.76837158203125e-07\n",
      "2018-12-11 13:50:41,626 vaportekusa.com INFO     policy_loss: [[-0.02443313]], value_loss: 0.12539835274219513, entropy_loss: 0.001421100809238851\n",
      "2018-12-11 13:50:41,628 vaportekusa.com INFO     sum_reward for vaportekusa.com is 0.0\n",
      "2018-12-11 13:50:41,630 vaportekusa.com INFO     \n",
      "\n",
      "started url divisionvapor.com\n",
      "2018-12-11 13:50:44,947 elevatedvaping.com INFO     control: Control: button, label: Exit, values: None, min: None, max = None\n",
      "2018-12-11 13:50:44,959 elevatedvaping.com INFO     action: Click\n",
      "2018-12-11 13:50:46,958 vapegoons.com INFO     control: Control: button, label: Watch later, values: None, min: None, max = None\n",
      "2018-12-11 13:50:46,959 vapegoons.com INFO     action: Click\n",
      "2018-12-11 13:50:48,035 vapegoons.com INFO     success: False, reward: 0\n",
      "2018-12-11 13:50:52,639 elevatedvaping.com INFO     success: True, reward: 0\n",
      "2018-12-11 13:50:59,839 vaportekusa.com INFO     goal proba = 0.9963029096834362\n",
      "2018-12-11 13:50:59,843 vaportekusa.com INFO     \n",
      "\n",
      "started url springvapor.com\n"
     ]
    },
    {
     "name": "stdout",
     "output_type": "stream",
     "text": [
      "avg_reward: 1.0\n"
     ]
    },
    {
     "data": {
      "image/png": "[encoded data removed]",
      "text/plain": [
       "<matplotlib.figure.Figure at 0x7fe6dc02ba58>"
      ]
     },
     "metadata": {},
     "output_type": "display_data"
    },
    {
     "name": "stderr",
     "output_type": "stream",
     "text": [
      "2018-12-11 13:51:19,817 vaportekusa.com INFO     goal proba = 0.0\n",
      "2018-12-11 13:51:29,043 elevatedvaping.com INFO     control: Control: button, label: Exit, values: None, min: None, max = None\n",
      "2018-12-11 13:51:29,045 elevatedvaping.com INFO     action: Click\n",
      "2018-12-11 13:51:36,847 elevatedvaping.com INFO     success: True, reward: 0\n",
      "2018-12-11 13:51:58,730 vapegoons.com INFO     control: Control: button, label: Watch later, values: None, min: None, max = None\n",
      "2018-12-11 13:51:58,731 vapegoons.com INFO     action: Click\n",
      "2018-12-11 13:51:59,934 vapegoons.com INFO     success: False, reward: 0\n"
     ]
    },
    {
     "name": "stdout",
     "output_type": "stream",
     "text": [
      "avg_reward: 1.0\n"
     ]
    },
    {
     "data": {
      "image/png": "[encoded data removed]",
      "text/plain": [
       "<matplotlib.figure.Figure at 0x7fe6a12152b0>"
      ]
     },
     "metadata": {},
     "output_type": "display_data"
    },
    {
     "name": "stderr",
     "output_type": "stream",
     "text": [
      "2018-12-11 13:52:18,674 rtsvapes.com INFO     control: Control: button, label: I am NOT of legal \n",
      "smoking age, values: None, min: None, max = None\n",
      "2018-12-11 13:52:18,676 rtsvapes.com INFO     action: Click\n",
      "2018-12-11 13:52:18,889 vapegoons.com INFO     control: Control: text, label: Email\n",
      " , values: None, min: None, max = None\n",
      "2018-12-11 13:52:18,890 vapegoons.com INFO     action: Input Email\n",
      "2018-12-11 13:52:21,162 vapegoons.com INFO     success: True, reward: 0\n",
      "2018-12-11 13:52:21,163 vapegoons.com INFO     control: Control: button, label: X, values: None, min: None, max = None\n",
      "2018-12-11 13:52:21,164 vapegoons.com INFO     action: Click\n",
      "2018-12-11 13:52:25,079 springvapor.com INFO     control: Control: button, label: , values: None, min: None, max = None\n",
      "2018-12-11 13:52:25,080 springvapor.com INFO     action: Click\n",
      "2018-12-11 13:52:25,637 rtsvapes.com INFO     success: True, reward: 0\n",
      "2018-12-11 13:52:29,293 elevatedvaping.com INFO     control: Control: button, label: Exit, values: None, min: None, max = None\n",
      "2018-12-11 13:52:29,295 elevatedvaping.com INFO     action: Click\n",
      "2018-12-11 13:52:29,501 vapegoons.com INFO     success: True, reward: 0\n",
      "2018-12-11 13:52:33,731 springvapor.com INFO     success: True, reward: 0\n",
      "2018-12-11 13:52:39,249 elevatedvaping.com INFO     success: True, reward: 0\n"
     ]
    },
    {
     "name": "stdout",
     "output_type": "stream",
     "text": [
      "avg_reward: 1.0\n"
     ]
    },
    {
     "data": {
      "image/png": "[encoded data removed]",
      "text/plain": [
       "<matplotlib.figure.Figure at 0x7fe6a1204c88>"
      ]
     },
     "metadata": {},
     "output_type": "display_data"
    }
   ],
   "source": [
    "%matplotlib inline\n",
    "import numpy as np\n",
    "import matplotlib.pyplot as plt\n",
    "from tracing.utils.logger import get_logger\n",
    "\n",
    "logger = get_logger()\n",
    "logger.setLevel(logging.INFO)\n",
    "handler = logging.StreamHandler()\n",
    "formatter = logging.Formatter(\n",
    "        '%(asctime)s %(threadName)s %(levelname)-8s %(message)s')\n",
    "handler.setFormatter(formatter)\n",
    "logger.addHandler(handler)\n",
    "\n",
    "def start(worker):\n",
    "    while True:\n",
    "        try:\n",
    "            worker.run()\n",
    "            break\n",
    "        except:\n",
    "            pass\n",
    "\n",
    "threads = []\n",
    "for worker in workers:\n",
    "    thread = threading.Thread(target=lambda: start(worker))\n",
    "    thread.daemon = True\n",
    "    thread.start()\n",
    "    threads.append(thread)\n",
    "\n",
    "while True:\n",
    "    time.sleep(60)\n",
    "    \n",
    "    rewards = ActorLearnerWorker.step_rewards[:]\n",
    "    if len(rewards) > 0:\n",
    "        print('avg_reward:', sum(rewards) / len(rewards))\n",
    "    plt.plot(np.arange(len(rewards)), rewards)\n",
    "    plt.xlabel('episodes')\n",
    "    plt.ylabel('Reward')\n",
    "    plt.show()\n",
    "    \n",
    "coord.join(threads)"
   ]
  },
  {
   "cell_type": "code",
   "execution_count": null,
   "metadata": {
    "scrolled": true
   },
   "outputs": [],
   "source": [
    "from tracing.rl.actor_learner import ActionsMemory\n",
    "from tracing.rl.actions import *\n",
    "from tracing.rl.a3cmodel import A3CModel\n",
    "from tracing.rl.rewards import PopupRewardsCalculator\n",
    "from tracing.rl.actor_learner import ActorLearnerWorker\n",
    "import threading\n",
    "import numpy as np\n",
    "import PIL\n",
    "import time\n",
    "\n",
    "import tracing.selenium_utils.controls as selenium_controls\n",
    "import tracing.selenium_utils.common as common\n",
    "\n",
    "from IPython.display import display, Image\n",
    "\n",
    "env = Environment(PopupRewardsCalculator(), user={}, headless=True)\n",
    "with env:\n",
    "    assert env.start('goldenstatevapor.com')\n",
    "    print('started')\n",
    "    \n",
    "    while env.has_next_control():\n",
    "        ctrl = env.get_next_control()\n",
    "        \n",
    "        print('\\n\\n')\n",
    "\n",
    "        print('step:', env.step)\n",
    "        \n",
    "        print(ctrl.elem.get_attribute('outerHTML'))\n",
    "        print(ctrl.location)\n",
    "        print(ctrl.size)\n",
    "        print(str(ctrl)[:100])\n",
    "        \n",
    "        inp = env.get_control_as_input(ctrl)\n",
    "        \n",
    "        rgb = (inp * 128 + 128).astype(np.uint8)\n",
    "        img = PIL.Image.fromarray(rgb, 'RGB')\n",
    "        img.save('test.png')\n",
    "        display(Image(filename='test.png'))   \n",
    "        \n",
    "        if env.step == 0:\n",
    "            reward = env.apply_action(ctrl, InputBMonth())\n",
    "            print('reward:', reward)\n",
    "        elif env.step == 1:\n",
    "            reward = env.apply_action(ctrl, InputBDay())\n",
    "            print('reward:', reward)\n",
    "        elif env.step == 2:\n",
    "            reward = env.apply_action(ctrl, InputBYear())\n",
    "            print('reward:', reward)\n",
    "        elif env.step == 3:\n",
    "            reward = env.apply_action(ctrl, Click())\n",
    "            print('reward:', reward)\n",
    "        else:\n",
    "            env.apply_action(ctrl, Nothing())\n",
    "        "
   ]
  },
  {
   "cell_type": "code",
   "execution_count": null,
   "metadata": {},
   "outputs": [],
   "source": [
    "# Test Environment\n",
    "from tracing.selenium_utils.common import *\n",
    "\n",
    "env = Environment(PopupRewardsCalculator(), user={}, headless=False)\n",
    "\n",
    "with env:\n",
    "    env.start('enhancedecigs.com')\n",
    "\n",
    "    ctrls = env.get_controls()\n",
    "    assert len(ctrls) == 6\n",
    "\n",
    "    dayCtrl = ctrls[0]\n",
    "    monthCtrl = ctrls[1]\n",
    "    yearCtrl = ctrls[2]\n",
    "    check = ctrls[3]\n",
    "    enter = ctrls[5]\n",
    "\n",
    "    assert env.apply_action(dayCtrl, InputBDay()) == 0\n",
    "    assert env.apply_action(monthCtrl, InputBMonth()) == 0\n",
    "    assert env.apply_action(yearCtrl, InputBYear()) == 0\n",
    "    assert env.apply_action(check, Click()) == 0\n",
    "    assert env.apply_action(enter, Click()) == 100\n",
    "\n",
    "    assert env.calc_final_reward() == 0\n"
   ]
  },
  {
   "cell_type": "code",
   "execution_count": null,
   "metadata": {},
   "outputs": [],
   "source": [
    "# Test Popups Detecting\n",
    "\n",
    "import time\n",
    "\n",
    "rewards = PopupRewardsCalculator()\n",
    "\n",
    "driver = create_chrome_driver()\n",
    "\n",
    "for url in no_popup_urls:\n",
    "    print('url: ', url)\n",
    "    driver.get('http://' + url)\n",
    "    time.sleep(2)\n",
    "    assert not rewards.is_popup_exists(driver)\n",
    "\n",
    "for url in popup_urls:\n",
    "    print('url: ', url)\n",
    "    driver.get('http://' + url)\n",
    "    time.sleep(2)\n",
    "    assert rewards.is_popup_exists(driver)\n",
    "\n",
    "driver.quit()    "
   ]
  }
 ],
 "metadata": {
  "kernelspec": {
   "display_name": "Python 3",
   "language": "python",
   "name": "python3"
  },
  "language_info": {
   "codemirror_mode": {
    "name": "ipython",
    "version": 3
   },
   "file_extension": ".py",
   "mimetype": "text/x-python",
   "name": "python",
   "nbconvert_exporter": "python",
   "pygments_lexer": "ipython3",
   "version": "3.6.3"
  }
 },
 "nbformat": 4,
 "nbformat_minor": 2
}
