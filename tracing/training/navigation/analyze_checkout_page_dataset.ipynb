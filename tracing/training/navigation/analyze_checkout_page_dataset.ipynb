{
 "cells": [
  {
   "cell_type": "markdown",
   "metadata": {},
   "source": [
    "### Analysis of built dataset"
   ]
  },
  {
   "cell_type": "code",
   "execution_count": null,
   "metadata": {
    "scrolled": false
   },
   "outputs": [],
   "source": [
    "### import json\n",
    "from IPython.core.display import Image, display\n",
    "\n",
    "start = 9300\n",
    "end = 9600\n",
    "\n",
    "with open('checkout_dataset.csv') as f:\n",
    "    for i, line in enumerate(f):\n",
    "        if i < start or i > end:\n",
    "            continue \n",
    "            \n",
    "        state, domain, url, file = line.strip().split('\\t')\n",
    "        if state != 'checkout_page':\n",
    "            continue\n",
    "        print('\\n\\n\\n\\nstate: ', state)\n",
    "        print('line:', i + 1)\n",
    "        print('domain: ', domain)\n",
    "        print('url: ', url)\n",
    "        display(Image(file, width=600, unconfined=True))        \n",
    "        "
   ]
  },
  {
   "cell_type": "markdown",
   "metadata": {},
   "source": [
    "### Analysis of collected traces"
   ]
  },
  {
   "cell_type": "code",
   "execution_count": null,
   "metadata": {},
   "outputs": [],
   "source": [
    "import json\n",
    "from IPython.core.display import Image, display\n",
    "\n",
    "limit = 10\n",
    "with open('log/results.jsonl', 'r') as f:\n",
    "    \n",
    "    for line in f:\n",
    "        \n",
    "        trace = json.loads(line)\n",
    "        if trace['status']['state'] != 'checkout_page':\n",
    "            continue\n",
    "        \n",
    "        limit -= 1\n",
    "        if limit <= 0:\n",
    "            break\n",
    "\n",
    "        \n",
    "        print('\\n\\n{} - {}'.format(trace['domain'], trace['status']['state']))\n",
    "        for step in trace['steps']:\n",
    "            print('url: {} state: {} handler: {}'.format(step['url'], step['state'], step['handler']))\n",
    "            display(Image(step['screen_path'], width=640, unconfined=True))\n",
    "            "
   ]
  }
 ],
 "metadata": {
  "kernelspec": {
   "display_name": "Python 3",
   "language": "python",
   "name": "python3"
  },
  "language_info": {
   "codemirror_mode": {
    "name": "ipython",
    "version": 3
   },
   "file_extension": ".py",
   "mimetype": "text/x-python",
   "name": "python",
   "nbconvert_exporter": "python",
   "pygments_lexer": "ipython3",
   "version": "3.6.3"
  }
 },
 "nbformat": 4,
 "nbformat_minor": 2
}
